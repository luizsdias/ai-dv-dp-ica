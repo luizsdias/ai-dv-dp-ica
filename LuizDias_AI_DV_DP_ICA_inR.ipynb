{
  "nbformat": 4,
  "nbformat_minor": 0,
  "metadata": {
    "colab": {
      "name": "LuizDias_AI_DV_DP_ICA_inR.ipynb",
      "provenance": [],
      "collapsed_sections": [],
      "authorship_tag": "ABX9TyPaUeEyttZEQbFqQROwZG4f",
      "include_colab_link": true
    },
    "kernelspec": {
      "name": "ir",
      "display_name": "R"
    },
    "language_info": {
      "name": "R"
    }
  },
  "cells": [
    {
      "cell_type": "markdown",
      "metadata": {
        "id": "view-in-github",
        "colab_type": "text"
      },
      "source": [
        "<a href=\"https://colab.research.google.com/github/luizsdias/ai-dv-dp-ica/blob/main/LuizDias_AI_DV_DP_ICA_inR.ipynb\" target=\"_parent\"><img src=\"https://colab.research.google.com/assets/colab-badge.svg\" alt=\"Open In Colab\"/></a>"
      ]
    },
    {
      "cell_type": "code",
      "source": [
        "library(ggplot2)\n",
        "library(stringr)"
      ],
      "metadata": {
        "id": "QgHc1EW2lQY5"
      },
      "execution_count": 1,
      "outputs": []
    },
    {
      "cell_type": "code",
      "execution_count": 2,
      "metadata": {
        "id": "d2Q1HI7bTqlE"
      },
      "outputs": [],
      "source": [
        "df <- read.csv(\"https://raw.githubusercontent.com/luizsdias/integrated-final-CA/main/forestfires.csv\")"
      ]
    },
    {
      "cell_type": "code",
      "source": [
        "head(df)"
      ],
      "metadata": {
        "colab": {
          "base_uri": "https://localhost:8080/",
          "height": 286
        },
        "id": "F7O_GGRwgpqx",
        "outputId": "ce777c06-637f-4caf-e4ba-a21a49b224da"
      },
      "execution_count": 10,
      "outputs": [
        {
          "output_type": "display_data",
          "data": {
            "text/plain": [
              "  X Y month day FFMC DMC  DC    ISI  temp RH wind rain area\n",
              "1 7 5  3    fri 86.2 26.2  94.3  5.1  8.2 51 6.7  0.0  0   \n",
              "2 7 4 10    tue 90.6 35.4 669.1  6.7 18.0 33 0.9  0.0  0   \n",
              "3 7 4 10    sat 90.6 43.7 686.9  6.7 14.6 33 1.3  0.0  0   \n",
              "4 8 6  3    fri 91.7 33.3  77.5  9.0  8.3 97 4.0  0.2  0   \n",
              "5 8 6  3    sun 89.3 51.3 102.2  9.6 11.4 99 1.8  0.0  0   \n",
              "6 8 6  8    sun 92.3 85.3 488.0 14.7 22.2 29 5.4  0.0  0   "
            ],
            "text/latex": "A data.frame: 6 × 13\n\\begin{tabular}{r|lllllllllllll}\n  & X & Y & month & day & FFMC & DMC & DC & ISI & temp & RH & wind & rain & area\\\\\n  & <int> & <int> & <int> & <chr> & <dbl> & <dbl> & <dbl> & <dbl> & <dbl> & <int> & <dbl> & <dbl> & <dbl>\\\\\n\\hline\n\t1 & 7 & 5 &  3 & fri & 86.2 & 26.2 &  94.3 &  5.1 &  8.2 & 51 & 6.7 & 0.0 & 0\\\\\n\t2 & 7 & 4 & 10 & tue & 90.6 & 35.4 & 669.1 &  6.7 & 18.0 & 33 & 0.9 & 0.0 & 0\\\\\n\t3 & 7 & 4 & 10 & sat & 90.6 & 43.7 & 686.9 &  6.7 & 14.6 & 33 & 1.3 & 0.0 & 0\\\\\n\t4 & 8 & 6 &  3 & fri & 91.7 & 33.3 &  77.5 &  9.0 &  8.3 & 97 & 4.0 & 0.2 & 0\\\\\n\t5 & 8 & 6 &  3 & sun & 89.3 & 51.3 & 102.2 &  9.6 & 11.4 & 99 & 1.8 & 0.0 & 0\\\\\n\t6 & 8 & 6 &  8 & sun & 92.3 & 85.3 & 488.0 & 14.7 & 22.2 & 29 & 5.4 & 0.0 & 0\\\\\n\\end{tabular}\n",
            "text/markdown": "\nA data.frame: 6 × 13\n\n| <!--/--> | X &lt;int&gt; | Y &lt;int&gt; | month &lt;int&gt; | day &lt;chr&gt; | FFMC &lt;dbl&gt; | DMC &lt;dbl&gt; | DC &lt;dbl&gt; | ISI &lt;dbl&gt; | temp &lt;dbl&gt; | RH &lt;int&gt; | wind &lt;dbl&gt; | rain &lt;dbl&gt; | area &lt;dbl&gt; |\n|---|---|---|---|---|---|---|---|---|---|---|---|---|---|\n| 1 | 7 | 5 |  3 | fri | 86.2 | 26.2 |  94.3 |  5.1 |  8.2 | 51 | 6.7 | 0.0 | 0 |\n| 2 | 7 | 4 | 10 | tue | 90.6 | 35.4 | 669.1 |  6.7 | 18.0 | 33 | 0.9 | 0.0 | 0 |\n| 3 | 7 | 4 | 10 | sat | 90.6 | 43.7 | 686.9 |  6.7 | 14.6 | 33 | 1.3 | 0.0 | 0 |\n| 4 | 8 | 6 |  3 | fri | 91.7 | 33.3 |  77.5 |  9.0 |  8.3 | 97 | 4.0 | 0.2 | 0 |\n| 5 | 8 | 6 |  3 | sun | 89.3 | 51.3 | 102.2 |  9.6 | 11.4 | 99 | 1.8 | 0.0 | 0 |\n| 6 | 8 | 6 |  8 | sun | 92.3 | 85.3 | 488.0 | 14.7 | 22.2 | 29 | 5.4 | 0.0 | 0 |\n\n",
            "text/html": [
              "<table class=\"dataframe\">\n",
              "<caption>A data.frame: 6 × 13</caption>\n",
              "<thead>\n",
              "\t<tr><th></th><th scope=col>X</th><th scope=col>Y</th><th scope=col>month</th><th scope=col>day</th><th scope=col>FFMC</th><th scope=col>DMC</th><th scope=col>DC</th><th scope=col>ISI</th><th scope=col>temp</th><th scope=col>RH</th><th scope=col>wind</th><th scope=col>rain</th><th scope=col>area</th></tr>\n",
              "\t<tr><th></th><th scope=col>&lt;int&gt;</th><th scope=col>&lt;int&gt;</th><th scope=col>&lt;int&gt;</th><th scope=col>&lt;chr&gt;</th><th scope=col>&lt;dbl&gt;</th><th scope=col>&lt;dbl&gt;</th><th scope=col>&lt;dbl&gt;</th><th scope=col>&lt;dbl&gt;</th><th scope=col>&lt;dbl&gt;</th><th scope=col>&lt;int&gt;</th><th scope=col>&lt;dbl&gt;</th><th scope=col>&lt;dbl&gt;</th><th scope=col>&lt;dbl&gt;</th></tr>\n",
              "</thead>\n",
              "<tbody>\n",
              "\t<tr><th scope=row>1</th><td>7</td><td>5</td><td> 3</td><td>fri</td><td>86.2</td><td>26.2</td><td> 94.3</td><td> 5.1</td><td> 8.2</td><td>51</td><td>6.7</td><td>0.0</td><td>0</td></tr>\n",
              "\t<tr><th scope=row>2</th><td>7</td><td>4</td><td>10</td><td>tue</td><td>90.6</td><td>35.4</td><td>669.1</td><td> 6.7</td><td>18.0</td><td>33</td><td>0.9</td><td>0.0</td><td>0</td></tr>\n",
              "\t<tr><th scope=row>3</th><td>7</td><td>4</td><td>10</td><td>sat</td><td>90.6</td><td>43.7</td><td>686.9</td><td> 6.7</td><td>14.6</td><td>33</td><td>1.3</td><td>0.0</td><td>0</td></tr>\n",
              "\t<tr><th scope=row>4</th><td>8</td><td>6</td><td> 3</td><td>fri</td><td>91.7</td><td>33.3</td><td> 77.5</td><td> 9.0</td><td> 8.3</td><td>97</td><td>4.0</td><td>0.2</td><td>0</td></tr>\n",
              "\t<tr><th scope=row>5</th><td>8</td><td>6</td><td> 3</td><td>sun</td><td>89.3</td><td>51.3</td><td>102.2</td><td> 9.6</td><td>11.4</td><td>99</td><td>1.8</td><td>0.0</td><td>0</td></tr>\n",
              "\t<tr><th scope=row>6</th><td>8</td><td>6</td><td> 8</td><td>sun</td><td>92.3</td><td>85.3</td><td>488.0</td><td>14.7</td><td>22.2</td><td>29</td><td>5.4</td><td>0.0</td><td>0</td></tr>\n",
              "</tbody>\n",
              "</table>\n"
            ]
          },
          "metadata": {}
        }
      ]
    },
    {
      "cell_type": "code",
      "source": [
        "summary(df)"
      ],
      "metadata": {
        "colab": {
          "base_uri": "https://localhost:8080/",
          "height": 503
        },
        "id": "DqatQgI98vTj",
        "outputId": "065f360a-5786-45fd-a494-fad4d308b5e0"
      },
      "execution_count": 4,
      "outputs": [
        {
          "output_type": "display_data",
          "data": {
            "text/plain": [
              "       X               Y          month               day           \n",
              " Min.   :1.000   Min.   :2.0   Length:517         Length:517        \n",
              " 1st Qu.:3.000   1st Qu.:4.0   Class :character   Class :character  \n",
              " Median :4.000   Median :4.0   Mode  :character   Mode  :character  \n",
              " Mean   :4.669   Mean   :4.3                                        \n",
              " 3rd Qu.:7.000   3rd Qu.:5.0                                        \n",
              " Max.   :9.000   Max.   :9.0                                        \n",
              "      FFMC            DMC              DC             ISI        \n",
              " Min.   :18.70   Min.   :  1.1   Min.   :  7.9   Min.   : 0.000  \n",
              " 1st Qu.:90.20   1st Qu.: 68.6   1st Qu.:437.7   1st Qu.: 6.500  \n",
              " Median :91.60   Median :108.3   Median :664.2   Median : 8.400  \n",
              " Mean   :90.64   Mean   :110.9   Mean   :547.9   Mean   : 9.022  \n",
              " 3rd Qu.:92.90   3rd Qu.:142.4   3rd Qu.:713.9   3rd Qu.:10.800  \n",
              " Max.   :96.20   Max.   :291.3   Max.   :860.6   Max.   :56.100  \n",
              "      temp             RH              wind            rain        \n",
              " Min.   : 2.20   Min.   : 15.00   Min.   :0.400   Min.   :0.00000  \n",
              " 1st Qu.:15.50   1st Qu.: 33.00   1st Qu.:2.700   1st Qu.:0.00000  \n",
              " Median :19.30   Median : 42.00   Median :4.000   Median :0.00000  \n",
              " Mean   :18.89   Mean   : 44.29   Mean   :4.018   Mean   :0.02166  \n",
              " 3rd Qu.:22.80   3rd Qu.: 53.00   3rd Qu.:4.900   3rd Qu.:0.00000  \n",
              " Max.   :33.30   Max.   :100.00   Max.   :9.400   Max.   :6.40000  \n",
              "      area        \n",
              " Min.   :   0.00  \n",
              " 1st Qu.:   0.00  \n",
              " Median :   0.52  \n",
              " Mean   :  12.85  \n",
              " 3rd Qu.:   6.57  \n",
              " Max.   :1090.84  "
            ]
          },
          "metadata": {}
        }
      ]
    },
    {
      "cell_type": "code",
      "source": [
        "sum(is.na(df))"
      ],
      "metadata": {
        "colab": {
          "base_uri": "https://localhost:8080/",
          "height": 34
        },
        "id": "8dXj80YB-Y3V",
        "outputId": "ca9a1eef-a75e-4996-c2e2-cf6e1e9da02a"
      },
      "execution_count": 5,
      "outputs": [
        {
          "output_type": "display_data",
          "data": {
            "text/plain": [
              "[1] 0"
            ],
            "text/latex": "0",
            "text/markdown": "0",
            "text/html": [
              "0"
            ]
          },
          "metadata": {}
        }
      ]
    },
    {
      "cell_type": "code",
      "source": [
        "boxplot(df$ISI, ylab = \"ISI index\")"
      ],
      "metadata": {
        "colab": {
          "base_uri": "https://localhost:8080/",
          "height": 437
        },
        "id": "mVmtj7lfswiU",
        "outputId": "6ac9bfc7-5737-4d5a-8b62-fd377abe7dfe"
      },
      "execution_count": 6,
      "outputs": [
        {
          "output_type": "display_data",
          "data": {
            "image/png": "[encoded data removed]",
            "text/plain": [
              "plot without title"
            ]
          },
          "metadata": {
            "image/png": {
              "width": 420,
              "height": 420
            }
          }
        }
      ]
    },
    {
      "cell_type": "code",
      "source": [
        "month.abb"
      ],
      "metadata": {
        "colab": {
          "base_uri": "https://localhost:8080/",
          "height": 34
        },
        "id": "yP4KVCOAAISb",
        "outputId": "2305f3c6-3ab8-495b-9d2f-bdf912667f95"
      },
      "execution_count": 17,
      "outputs": [
        {
          "output_type": "display_data",
          "data": {
            "text/plain": [
              " [1] \"Jan\" \"Feb\" \"Mar\" \"Apr\" \"May\" \"Jun\" \"Jul\" \"Aug\" \"Sep\" \"Oct\" \"Nov\" \"Dec\""
            ],
            "text/latex": "\\begin{enumerate*}\n\\item 'Jan'\n\\item 'Feb'\n\\item 'Mar'\n\\item 'Apr'\n\\item 'May'\n\\item 'Jun'\n\\item 'Jul'\n\\item 'Aug'\n\\item 'Sep'\n\\item 'Oct'\n\\item 'Nov'\n\\item 'Dec'\n\\end{enumerate*}\n",
            "text/markdown": "1. 'Jan'\n2. 'Feb'\n3. 'Mar'\n4. 'Apr'\n5. 'May'\n6. 'Jun'\n7. 'Jul'\n8. 'Aug'\n9. 'Sep'\n10. 'Oct'\n11. 'Nov'\n12. 'Dec'\n\n\n",
            "text/html": [
              "<style>\n",
              ".list-inline {list-style: none; margin:0; padding: 0}\n",
              ".list-inline>li {display: inline-block}\n",
              ".list-inline>li:not(:last-child)::after {content: \"\\00b7\"; padding: 0 .5ex}\n",
              "</style>\n",
              "<ol class=list-inline><li>'Jan'</li><li>'Feb'</li><li>'Mar'</li><li>'Apr'</li><li>'May'</li><li>'Jun'</li><li>'Jul'</li><li>'Aug'</li><li>'Sep'</li><li>'Oct'</li><li>'Nov'</li><li>'Dec'</li></ol>\n"
            ]
          },
          "metadata": {}
        }
      ]
    },
    {
      "cell_type": "code",
      "source": [
        "df$month = str_to_title(df$month)"
      ],
      "metadata": {
        "id": "aELhaV1b-1R6"
      },
      "execution_count": 7,
      "outputs": []
    },
    {
      "cell_type": "code",
      "source": [
        "df$month <- match(df$month, month.abb)"
      ],
      "metadata": {
        "id": "BH74tTFY9KoY"
      },
      "execution_count": 9,
      "outputs": []
    },
    {
      "cell_type": "code",
      "source": [
        "ggplot(df) +\n",
        "  aes(x = wind, y = area) +\n",
        "  geom_histogram()"
      ],
      "metadata": {
        "colab": {
          "base_uri": "https://localhost:8080/",
          "height": 1000
        },
        "id": "FybodGITlBG4",
        "outputId": "d3bc86cd-9aa4-454a-fb28-0e27a87bcb93"
      },
      "execution_count": null,
      "outputs": [
        {
          "output_type": "stream",
          "name": "stderr",
          "text": [
            "ERROR while rich displaying an object: Error: stat_bin() can only have an x or y aesthetic.\n",
            "\n",
            "Traceback:\n",
            "1. FUN(X[[i]], ...)\n",
            "2. tryCatch(withCallingHandlers({\n",
            " .     if (!mime %in% names(repr::mime2repr)) \n",
            " .         stop(\"No repr_* for mimetype \", mime, \" in repr::mime2repr\")\n",
            " .     rpr <- repr::mime2repr[[mime]](obj)\n",
            " .     if (is.null(rpr)) \n",
            " .         return(NULL)\n",
            " .     prepare_content(is.raw(rpr), rpr)\n",
            " . }, error = error_handler), error = outer_handler)\n",
            "3. tryCatchList(expr, classes, parentenv, handlers)\n",
            "4. tryCatchOne(expr, names, parentenv, handlers[[1L]])\n",
            "5. doTryCatch(return(expr), name, parentenv, handler)\n",
            "6. withCallingHandlers({\n",
            " .     if (!mime %in% names(repr::mime2repr)) \n",
            " .         stop(\"No repr_* for mimetype \", mime, \" in repr::mime2repr\")\n",
            " .     rpr <- repr::mime2repr[[mime]](obj)\n",
            " .     if (is.null(rpr)) \n",
            " .         return(NULL)\n",
            " .     prepare_content(is.raw(rpr), rpr)\n",
            " . }, error = error_handler)\n",
            "7. repr::mime2repr[[mime]](obj)\n",
            "8. repr_text.default(obj)\n",
            "9. paste(capture.output(print(obj)), collapse = \"\\n\")\n",
            "10. capture.output(print(obj))\n",
            "11. withVisible(...elt(i))\n",
            "12. print(obj)\n",
            "13. print.ggplot(obj)\n",
            "14. ggplot_build(x)\n",
            "15. ggplot_build.ggplot(x)\n",
            "16. by_layer(function(l, d) l$compute_statistic(d, layout))\n",
            "17. f(l = layers[[i]], d = data[[i]])\n",
            "18. l$compute_statistic(d, layout)\n",
            "19. f(..., self = self)\n",
            "20. self$stat$setup_params(data, self$stat_params)\n",
            "21. f(...)\n",
            "22. abort(\"stat_bin() can only have an x or y aesthetic.\")\n",
            "23. signal_abort(cnd)\n"
          ]
        },
        {
          "output_type": "display_data",
          "data": {
            "image/png": "[encoded data removed]",
            "text/plain": [
              "plot without title"
            ]
          },
          "metadata": {
            "image/png": {
              "width": 420,
              "height": 420
            }
          }
        }
      ]
    },
    {
      "cell_type": "code",
      "source": [
        "hist(df$temp)"
      ],
      "metadata": {
        "id": "kL8YG6Es3IK0",
        "colab": {
          "base_uri": "https://localhost:8080/",
          "height": 437
        },
        "outputId": "fcbfcb0d-028b-4645-9a46-82831d59db26"
      },
      "execution_count": null,
      "outputs": [
        {
          "output_type": "display_data",
          "data": {
            "image/png": "[encoded data removed]",
            "text/plain": [
              "Plot with title “Histogram of df$temp”"
            ]
          },
          "metadata": {
            "image/png": {
              "width": 420,
              "height": 420
            }
          }
        }
      ]
    },
    {
      "cell_type": "code",
      "source": [
        "plot(df$X, df$Y,\n",
        "  pch = 19,\n",
        "  cex = 2.5,\n",
        "  col = \"#cc0000\",\n",
        "  main = \"Map position\",\n",
        "  xlab = \"x coordinate\",\n",
        "  ylab = \"y coordinate\")"
      ],
      "metadata": {
        "colab": {
          "base_uri": "https://localhost:8080/",
          "height": 437
        },
        "id": "H-7mNQis5gjG",
        "outputId": "29b1c0d1-ebe0-4529-e279-f23fea53415d"
      },
      "execution_count": null,
      "outputs": [
        {
          "output_type": "display_data",
          "data": {
            "image/png": "[encoded data removed]",
            "text/plain": [
              "Plot with title “Map position”"
            ]
          },
          "metadata": {
            "image/png": {
              "width": 420,
              "height": 420
            }
          }
        }
      ]
    }
  ]
}